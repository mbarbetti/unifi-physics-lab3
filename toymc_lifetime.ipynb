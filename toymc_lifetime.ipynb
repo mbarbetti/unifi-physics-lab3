{
  "nbformat": 4,
  "nbformat_minor": 0,
  "metadata": {
    "colab": {
      "name": "toymc_lifetime.ipynb",
      "provenance": [],
      "authorship_tag": "ABX9TyMQMWxxJ/3c2RzDmcj/3KSm",
      "include_colab_link": true
    },
    "kernelspec": {
      "name": "python3",
      "display_name": "Python 3"
    },
    "language_info": {
      "name": "python"
    }
  },
  "cells": [
    {
      "cell_type": "markdown",
      "metadata": {
        "id": "view-in-github",
        "colab_type": "text"
      },
      "source": [
        "<a href=\"https://colab.research.google.com/github/mbarbetti/unifi-physics-lab3/blob/main/toymc_lifetime.ipynb\" target=\"_parent\"><img src=\"https://colab.research.google.com/assets/colab-badge.svg\" alt=\"Open In Colab\"/></a>"
      ]
    },
    {
      "cell_type": "markdown",
      "source": [
        "Toy Monte Carlo per verificare il p-valore del test del $\\chi^2$ di Pearson per una distribuzione esponenziale"
      ],
      "metadata": {
        "id": "q826KbPaUCgY"
      }
    },
    {
      "cell_type": "code",
      "metadata": {
        "id": "CEyDnMmD6Jz8"
      },
      "source": [
        "import numpy as np\n",
        "import matplotlib.pyplot as plt\n",
        "from scipy.optimize import curve_fit\n",
        "from scipy.stats import poisson\n",
        "from scipy.stats import chi2\n",
        "plt.rcParams['figure.figsize'] = [10, 5]"
      ],
      "execution_count": null,
      "outputs": []
    },
    {
      "cell_type": "code",
      "metadata": {
        "id": "-BYLoS9VCw9c"
      },
      "source": [
        "def chi2_calc(x_values, ncounts, ntot, mean):\n",
        "#  print (x_values, ncounts)\n",
        "#  print (ntot, mean)\n",
        "  ### Calculate chi2 and print fit results\n",
        "#  delta = x_values[1:] - x_values[:-1] \n",
        "#  nexpect = ntot*delta*np.exp(-x_values[:-1]/mean)/mean\n",
        "  nexpect = ntot*(np.exp(-x_values[:-1]/mean)-np.exp(-x_values[1:]/mean))\n",
        "#  print (nexpect)\n",
        "  residuals = ncounts - nexpect \n",
        "#  print (residuals)\n",
        "  squares = np.square(residuals)/nexpect\n",
        "#  print (squares)\n",
        "  chi2fit = squares.sum()\n",
        "  return chi2fit"
      ],
      "execution_count": null,
      "outputs": []
    },
    {
      "cell_type": "code",
      "metadata": {
        "id": "OggLyIPc6K33"
      },
      "source": [
        "ntoy = 10000\n",
        "true_mean = 2000\n",
        "nevents = 5000\n",
        "nbins = 10\n",
        "max_time = 10000\n",
        "chi2dist = np.zeros(ntoy)\n",
        "for i in range(ntoy):\n",
        "  sample = np.random.exponential(true_mean, np.random.poisson(nevents))\n",
        "  histo = np.histogram(sample, bins = nbins, range = (0, max_time))\n",
        "  chi2mc = chi2_calc(histo[1], histo[0], nevents, true_mean)\n",
        "  if (i==0):\n",
        "    plt.xlabel('Time [ns]')\n",
        "    plt.ylabel('Number of events')\n",
        "    plt.hist ( sample, bins = nbins, range = (0, max_time), label='Simulated decay time')\n",
        "    plt.yscale(\"linear\") #linear or log\n",
        "    plt.show()\n",
        "#    print(histo[1][:-1])\n",
        "#    print(histo[0])\n",
        "#    print (chi2mc)  \n",
        "  chi2dist[i] = chi2mc \n",
        "\n",
        "nchi2bins = 100\n",
        "x_max = 2*nbins\n",
        "ndf = nbins\n",
        "binwidth = x_max/nchi2bins\n",
        "x_values = np.arange (0, x_max, binwidth)\n",
        "y_values = ntoy*binwidth*chi2.pdf(x_values,ndf)\n",
        "#print (binwidth, x_values, y_values)\n",
        "plt.plot(x_values, y_values, label=f'chi2 with ndf={ndf}', color = \"red\", zorder = 1, lw = 2)\n",
        "plt.hist(chi2dist, bins = nchi2bins, range = (0,x_max), label='Toy mc (true mean)')\n",
        "plt.legend()\n",
        "plt.plot() \n",
        "print (\"valore medio del chi2 (true mean)= \", np.mean(chi2dist))\n",
        "\n",
        "# Adesso calcolando la media dal campione\n",
        "next_plot = True\n",
        "if (next_plot):\n",
        "  chi2dist = np.zeros(ntoy)\n",
        "  for i in range(ntoy):\n",
        "    sample = np.random.exponential(true_mean, np.random.poisson(nevents))\n",
        "    histo = np.histogram(sample, bins = nbins, range = (0, max_time)) \n",
        "    chi2mc = chi2_calc(histo[1], histo[0], nevents, np.mean(sample))\n",
        "    chi2dist[i] = chi2mc \n",
        "\n",
        "  plt.hist(chi2dist, bins = nchi2bins, range = (0,x_max), label='Toy mc (data mean)', alpha = 0.5)\n",
        "  plt.legend()\n",
        "  plt.plot() \n",
        "  print (\"valore medio del chi2 (data mean)= \", np.mean(chi2dist))"
      ],
      "execution_count": null,
      "outputs": []
    }
  ]
}